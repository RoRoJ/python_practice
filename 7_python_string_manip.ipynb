{
 "cells": [
  {
   "cell_type": "markdown",
   "id": "bde29102",
   "metadata": {},
   "source": [
    "# Python String Manipulation\n",
    "\n",
    "Practice exercises for string manipulation with Python\n",
    "\n",
    "\n",
    "## Prerequisites\n",
    "\n",
    "In order to complete these exercises, you should know how to:\n",
    "- Create strings\n",
    "- Use Python lists, and their operators https://docs.python.org/3/library/stdtypes.html#common-sequence-operations\n",
    "- Use Python built-in string methods: https://docs.python.org/3/library/stdtypes.html#string-methods\n",
    "- Use conditionals\n",
    "- Use loops\n",
    "- Format print statements\n",
    "\n",
    "Note that often there may be multiple correct ways to solve the exercise, depending on which method of string manipulation you use. In the answers given, it is not required to import any extra libraries."
   ]
  },
  {
   "cell_type": "markdown",
   "id": "85b56cb2",
   "metadata": {},
   "source": [
    "### Exercise 1\n",
    "Complete the code so that it prints each item in the list.\n",
    "- If the string has less than 5 characters, it prints it in uppercase\n",
    "- If the string has 5 or more characters, it prints it out in lowercase\n",
    "- Overriding the previous two rules, if the string contains an exclamation mark, it prints it out in title case"
   ]
  },
  {
   "cell_type": "code",
   "execution_count": null,
   "id": "2fdc6f69",
   "metadata": {},
   "outputs": [],
   "source": [
    "items = [\"Toby\", \"elephant\", \"nice to meet you!\", \"bang!\", \"go\", \"Diet Coke\"]\n",
    "\n",
    "for item in items:\n",
    "    "
   ]
  },
  {
   "cell_type": "markdown",
   "id": "13ba7556",
   "metadata": {},
   "source": [
    "### Exercise 2\n",
    "\n",
    "Create a function that takes a string as an argument, and counts the number of vowels in the string. It prints out a sentence like `<string> has 4 vowel(s)`. It should work regardless of the case of the vowels."
   ]
  },
  {
   "cell_type": "code",
   "execution_count": null,
   "id": "5393aa66",
   "metadata": {},
   "outputs": [],
   "source": []
  },
  {
   "cell_type": "markdown",
   "id": "0c4d8e57",
   "metadata": {},
   "source": [
    "### Exercise 3\n",
    "\n",
    "Create a function that takes a string as an argument and prints a statement giving the number of words in the string. Some example strings to check:\n",
    "\n",
    "\"How are you doing today?\" (5)  \n",
    "\"That's right\" (2)  \n",
    "\"It's an inter-denominational church\" (4)"
   ]
  },
  {
   "cell_type": "code",
   "execution_count": null,
   "id": "cd9c949d",
   "metadata": {},
   "outputs": [],
   "source": [
    "    "
   ]
  },
  {
   "cell_type": "markdown",
   "id": "e0bc19e8",
   "metadata": {},
   "source": [
    "### Exercise 4\n",
    "\n",
    "The company Scaleway is going through some changes:\n",
    "- They are changing their name to Skaleway\n",
    "- They are changing their slogan from \"The cloud that makes sense\" to \"We do it best\".\n",
    "\n",
    "As a result, a lot of content on their website needs updating.\n",
    "\n",
    "Create code that loops through the strings in the list provided, and modifies them accordingly. It should save them in a new list variable called new_text. Print the new text to check your modifications.\n",
    "\n",
    "Pay attention to capitalization. Capitalization should not be altered from the old text to the new."
   ]
  },
  {
   "cell_type": "code",
   "execution_count": 4,
   "id": "0277a7c2",
   "metadata": {},
   "outputs": [],
   "source": [
    "old_text = [\"Scaleway, the cloud that makes sense.\", \n",
    "            \"Of all the European cloud providers, Scaleway is the best\",\n",
    "            \"Scaleway's slogan is 'the cloud that makes sense'\",\n",
    "            \"The cloud that makes sense: Scaleway\"\n",
    "          ]\n",
    "\n"
   ]
  },
  {
   "cell_type": "markdown",
   "id": "22fc8748-36e3-410b-b224-2758a91c8311",
   "metadata": {},
   "source": [
    "### Exercice 5\n",
    "\n",
    "The list `names` has been extracted from a database, and contains the names of employees who have exceeded their sales targets in the month of June. \n",
    "  \n",
    "Turn this list into a single string variable, where all the names are separated by commas. \n",
    "  \n",
    "Then print a message thanking all these employees for their hard work and naming them personally, e.g. \n",
    "   \n",
    "\"The company would like to thank the following employees: Aisha Khan, Miguel Rodriguez (etc.)\"."
   ]
  },
  {
   "cell_type": "code",
   "execution_count": 5,
   "id": "c274e9be-c2a7-4d73-8e49-d22c00fcf2c2",
   "metadata": {},
   "outputs": [],
   "source": [
    "names = [\n",
    "    \"Aisha Khan\",\n",
    "    \"Miguel Rodriguez\",\n",
    "    \"Yuki Nakamura\",\n",
    "    \"Ananya Singh\",\n",
    "    \"Liam O'Connor\",\n",
    "    \"Chen Wei\",\n",
    "    \"Fatima El-Sayed\",\n",
    "    \"Carlos Silva\",\n",
    "    \"Sofia Rossi\",\n",
    "    \"Aleksandr Ivanov\"\n",
    "]"
   ]
  },
  {
   "cell_type": "markdown",
   "id": "2a146f60",
   "metadata": {},
   "source": [
    "### Exercice 6a\n",
    "\n",
    "The list `filepaths` is a list of filepaths within the repository of a documentation site.\n",
    "\n",
    "Make a new list called `filtered_filepaths` which contains only the filepaths which:\n",
    "\n",
    "- Are of filetype `mdx`\n",
    "- Are not named `index`, unless they are in the `tutorials` subfolder\n",
    "- Are not at the very top level of the directory (`../`)\n",
    "\n",
    "### Exercice 6b\n",
    "\n",
    "Amend the code to remove the two dots from the start of every filepath in the filtered list\n",
    "\n",
    "Print the new filepaths to check your work.\n"
   ]
  },
  {
   "cell_type": "code",
   "execution_count": 8,
   "id": "92c4f3c9",
   "metadata": {},
   "outputs": [],
   "source": [
    "filepaths = [\n",
    "    \"../contribute.mdx\",\n",
    "    \"../readme.mdx\",\n",
    "    \"../package.json\",\n",
    "    \"../index.mdx\",\n",
    "    \"../tutorials/hadoop/index.mdx\",\n",
    "    \"../tutorials/hadoop/assets/scaleway-apacheDL.webp\",\n",
    "    \"../tutorials/install-ispconfig/index.mdx\",\n",
    "    \"../tutorials/install-ispconfig/assets/scaleway-ispconfig_admin.webp\",\n",
    "    \"../observability/index.mdx\",\n",
    "    \"../observability/cockpit/quickstart.mdx\",\n",
    "    \"../observability/cockpit/concepts.mdx\",\n",
    "    \"../observability/cockpit/index.mdx\",\n",
    "    \"../observability/cockpit/api-cli/querying-logs-with-logcli.mdx\",\n",
    "    \"../observability/cockpit/api-cli/configuring-grafana-agent.mdx\",\n",
    "    \"../observability/cockpit/api-cli/index.mdx\",\n",
    "    \"../observability/cockpit/api-cli/assets/scaleway-data-source-url.webp\",\n",
    "    \"../faq/dedibox.mdx\",\n",
    "    \"../faq/iam.mdx\",\n",
    "    \"../faq/databases-for-redis.mdx\",\n",
    "    \"../faq/index.mdx\",\n",
    "    \"../faq/serverless-jobs.mdx\",\n",
    "    \"../faq/assets/scaleway-caas-billing-1.webp\",\n",
    "    \"../components/index.mdx\",\n",
    "    \"../managed-databases/index.mdx\",\n",
    "    \"../managed-databases/redis/quickstart.mdx\",\n",
    "    \"../managed-databases/redis/concepts.mdx\",\n",
    "    \"../managed-databases/postgresql-and-mysql/how-to/change-volume-type.mdx\",\n",
    "    \"../dedibox-network/index.mdx\",\n",
    "    \"../dedibox-network/dns/concepts.mdx\",\n",
    "    \"../dedibox-network/dns/index.mdx\",\n",
    "    \"../dedibox-network/dns/how-to/configure-reverse-dns.mdx\",\n",
    "    \"../dedibox-network/dns/how-to/configure-secondary-dns.mdx\",\n",
    "    \"../dedibox-network/dns/how-to/index.mdx\",\n",
    "    \"../dedibox-network/dns/how-to/add-dns-delegation.mdx\",\n",
    "    \"../dedibox-network/dns/how-to/assets/scaleway-mdx-example.webp\",\n",
    "    \"../dedibox-network/dns/how-to/assets/scaleway-dedibox-server-list.webpdx\",\n",
    "    \"../containers/container-registry/how-to/delete-namespace.mdx\",\n",
    "    \"../containers/container-registry/how-to/manage-namespace-privacy-policies.m\",\n",
    "    \"../containers/container-registry/how-to/index.mdx\",\n",
    "    \"../containers/container-registry/how-to/assets/scaleway-registry_image_privacy.pdf\",\n",
    "    \"../containers/container-registry/how-to/assets/scaleway-registry_image_privacy.webp\"\n",
    "]\n",
    "        "
   ]
  },
  {
   "cell_type": "markdown",
   "id": "8f62c320",
   "metadata": {},
   "source": [
    "### Exercise 7\n",
    "\n",
    "The list `scraped` is a list of strings that has been scraped from a website's homepage. The aim is to carry out some data analysis on the content of the homepage.\n",
    "\n",
    "#### Part a)\n",
    "\n",
    "Process each string to clean it up:\n",
    "\n",
    "- Remove any leading or trailing whitespace\n",
    "- Remove all of the following html tags (`<div>`, `</div>`, `<p>`, `</p>`, `<h2>`, `</h2>`)\n",
    "- Remove any double spaces\n",
    "- Remove any newline markers (`\\n`) or tab markers (`\\t`)\n",
    "\n",
    "Put the cleaned strings in a new list variable called `cleaned`.\n",
    "\n",
    "#### Part b)\n",
    "\n",
    "Carry out some data analysis, and print the results however you see fit.\n",
    "\n",
    "- How many exclamation marks are on the homepage?\n",
    "- How many links are given on the homepage?\n",
    "- How many times is the company name (WonderProduct) mentioned?"
   ]
  },
  {
   "cell_type": "code",
   "execution_count": 9,
   "id": "a2dd2127",
   "metadata": {},
   "outputs": [],
   "source": [
    "scraped = [\n",
    "    \"  <div>Welcome to the website of WonderProduct! Here   you will find a variety  of resources to help you.</div>  \",\n",
    "    \"\\n<p>Contact us at info@wonderproduct.com for more information.</p>\\n\\n\",\n",
    "    \"<h2>Latest News:</h2>    <p>WonderProduct has just\\nlaunched a new product line.</p>\\n\\n\",\n",
    "    \"  Follow us on social media: https://www.facebook.com and https://www.twitter.com  \\n\",\n",
    "    \"\\n<p>Customer Reviews: 'WonderProduct changed my life!' - Jane Doe</p>  \",\n",
    "    \"<p>Subscribe to the WonderProduct   newsletter for the latest updates.</p>\\n\\n\"  ,\n",
    "    \"<div>About Us:  We are a leading company in the tech industry, \\ncommitted to innovation.</div>\\n\\n\\n\",\n",
    "    \"\\t<p>Our Services: We offer web development, mobile app  development, and more.</p>\",\n",
    "    \"<p>FAQ: What is the return policy? - You can  return products within 30 days.</p>\\n\",\n",
    "    \"<div>Careers: Join the WonderProduct  team! Check out the latest job openings.</div>\\n\\n  \"\n",
    "]"
   ]
  },
  {
   "cell_type": "code",
   "execution_count": null,
   "id": "6b2a958b",
   "metadata": {},
   "outputs": [],
   "source": []
  },
  {
   "cell_type": "markdown",
   "id": "efe8334f",
   "metadata": {},
   "source": [
    "### Exercise 8\n",
    "\n",
    "Write a function that will be used when a user sets a new password. The function checks that the password meets the following criteria:\n",
    "\n",
    "- It has at least 8 characters\n",
    "- It contains at least one number\n",
    "- It contains at least one capital letter\n",
    "\n",
    "The function returns a boolean value.\n",
    "\n",
    "You can accomplish this without using regular expressions (though you can use regular expressions if you want). This may be helpful, to avoid regular expressions: https://www.w3resource.com/python-exercises/python-basic-exercise-86.php"
   ]
  },
  {
   "cell_type": "code",
   "execution_count": null,
   "id": "6d4e01c9",
   "metadata": {},
   "outputs": [],
   "source": []
  },
  {
   "cell_type": "code",
   "execution_count": null,
   "id": "2155ec0c",
   "metadata": {},
   "outputs": [],
   "source": []
  }
 ],
 "metadata": {
  "kernelspec": {
   "display_name": "Python 3 (ipykernel)",
   "language": "python",
   "name": "python3"
  },
  "language_info": {
   "codemirror_mode": {
    "name": "ipython",
    "version": 3
   },
   "file_extension": ".py",
   "mimetype": "text/x-python",
   "name": "python",
   "nbconvert_exporter": "python",
   "pygments_lexer": "ipython3",
   "version": "3.10.9"
  }
 },
 "nbformat": 4,
 "nbformat_minor": 5
}
