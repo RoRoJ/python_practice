{
 "cells": [
  {
   "cell_type": "markdown",
   "id": "bde29102",
   "metadata": {},
   "source": [
    "# Python String Manipulation\n",
    "\n",
    "Practice exercises for string manipulation with Python\n",
    "\n",
    "\n",
    "## Prerequisites\n",
    "\n",
    "In order to complete these exercises, you should know how to:\n",
    "- Create strings\n",
    "- Use Python lists, and their operators https://docs.python.org/3/library/stdtypes.html#common-sequence-operations\n",
    "- Use Python built-in string methods: https://docs.python.org/3/library/stdtypes.html#string-methods\n",
    "- Use conditionals\n",
    "- Use loops\n",
    "- Format print statements\n",
    "\n",
    "Note that often there may be multiple correct ways to solve the exercise, depending on which method of string manipulation you use. In the answers given, it is not required to import any extra libraries."
   ]
  },
  {
   "cell_type": "markdown",
   "id": "85b56cb2",
   "metadata": {},
   "source": [
    "### Exercise 1\n",
    "Complete the code so that it prints each item in the list.\n",
    "- If the string has less than 5 characters, it prints it in uppercase\n",
    "- If the string has 5 or more characters, it prints it out in lowercase\n",
    "- Overriding the previous two rules, if the string contains an exclamation mark, it prints it out in title case"
   ]
  },
  {
   "cell_type": "code",
   "execution_count": 84,
   "id": "284cf690",
   "metadata": {},
   "outputs": [
    {
     "name": "stdout",
     "output_type": "stream",
     "text": [
      "TOBY\n",
      "elephant\n",
      "Nice To Meet You!\n",
      "Bang!\n",
      "GO\n",
      "diet coke\n"
     ]
    }
   ],
   "source": [
    "## Answer exercise 1\n",
    "\n",
    "items = [\"Toby\", \"elephant\", \"nice to meet you!\", \"bang!\", \"go\", \"Diet Coke\"]\n",
    "\n",
    "for item in items:\n",
    "    if \"!\" in item:\n",
    "        print(item.title())\n",
    "    elif len(item) < 5:\n",
    "        print(item.upper())\n",
    "    else:\n",
    "        print(item.lower())"
   ]
  },
  {
   "cell_type": "markdown",
   "id": "13ba7556",
   "metadata": {},
   "source": [
    "### Exercise 2\n",
    "\n",
    "Create a function that takes a string as an argument, and counts the number of vowels in the string. It prints out a sentence like \"\\<string> has 4 vowel(s)\". It should work regardless of the case of the vowels."
   ]
  },
  {
   "cell_type": "code",
   "execution_count": 85,
   "id": "5393aa66",
   "metadata": {},
   "outputs": [
    {
     "name": "stdout",
     "output_type": "stream",
     "text": [
      "ELEPHANT has 3 vowel(s)\n"
     ]
    }
   ],
   "source": [
    "## Answer exercise 2\n",
    "\n",
    "def count_vowels(a_string):\n",
    "    vowels = 0\n",
    "    for letter in a_string:\n",
    "        if letter.upper() in \"AEIOU\":\n",
    "            vowels+=1\n",
    "    print(a_string, \"has\", vowels, \"vowel(s)\")\n",
    "\n",
    "count_vowels(\"ELEPHANT\")"
   ]
  },
  {
   "cell_type": "markdown",
   "id": "0c4d8e57",
   "metadata": {},
   "source": [
    "### Exercise 3\n",
    "\n",
    "Create a function that takes a string as an argument and prints a statement giving the number of words in the string. Some example strings to check:\n",
    "\n",
    "\"How are you doing today?\" (5)  \n",
    "\"That's right\" (2)  \n",
    "\"It's an inter-denominational church\" (4)"
   ]
  },
  {
   "cell_type": "code",
   "execution_count": 86,
   "id": "4a55ea01",
   "metadata": {},
   "outputs": [
    {
     "name": "stdout",
     "output_type": "stream",
     "text": [
      "There are 5 words in the phrase:  How are you doing today?\n"
     ]
    }
   ],
   "source": [
    "## Answer exercise 3\n",
    "\n",
    "def count_words(a_string):\n",
    "    word_list = a_string.split()\n",
    "    print(\"There are\", len(word_list), \"words in the phrase: \", a_string)\n",
    "\n",
    "count_words(\"How are you doing today?\")\n",
    "    "
   ]
  },
  {
   "cell_type": "markdown",
   "id": "e0bc19e8",
   "metadata": {},
   "source": [
    "### Exercise 4\n",
    "\n",
    "The company Scaleway is going through some changes:\n",
    "- They are changing their name to Skaleway\n",
    "- They are changing their slogan from \"The cloud that makes sense\" to \"We do it best\".\n",
    "\n",
    "As a result, a lot of content on their website needs updating.\n",
    "\n",
    "Create code that loops through the strings in the list provided, and modifies them accordingly. It should save them in a new list variable called new_text.\n",
    "\n",
    "Pay attention to capitalization. Capitalization should not be altered from the old text to the new."
   ]
  },
  {
   "cell_type": "code",
   "execution_count": 87,
   "id": "0277a7c2",
   "metadata": {},
   "outputs": [
    {
     "name": "stdout",
     "output_type": "stream",
     "text": [
      "['Skaleway, we do it best.', 'Of all the European cloud providers, Skaleway is the best', \"Skaleway's slogan is 'we do it best'\", 'We do it best: Skaleway']\n"
     ]
    }
   ],
   "source": [
    "## Answer exercise 4\n",
    "\n",
    "old_text = [\"Scaleway, the cloud that makes sense.\", \n",
    "            \"Of all the European cloud providers, Scaleway is the best\",\n",
    "            \"Scaleway's slogan is 'the cloud that makes sense'\",\n",
    "            \"The cloud that makes sense: Scaleway\"\n",
    "          ]\n",
    "\n",
    "\n",
    "new_text = []\n",
    "\n",
    "for text in old_text:\n",
    "    text = text.replace(\"the cloud that makes sense\", \"we do it best\")\n",
    "    text = text.replace(\"The cloud that makes sense\", \"We do it best\")\n",
    "    text = text.replace(\"Scaleway\", \"Skaleway\")\n",
    "    new_text.append(text)\n",
    "\n",
    "print(new_text)"
   ]
  },
  {
   "cell_type": "markdown",
   "id": "22fc8748-36e3-410b-b224-2758a91c8311",
   "metadata": {},
   "source": [
    "### Exercice 5\n",
    "\n",
    "The list `names` has been extracted from a database, and contains the names of employees who have exceeded their sales targets in the month of June. \n",
    "  \n",
    "Turn this list into a single string variable, where all the names are separated by commas. \n",
    "  \n",
    "Then print a message thanking all these employees for their hard work and naming them personally, e.g. \n",
    "   \n",
    "\"The company would like to thank the following employees: Aisha Khan, Miguel Rodriguez (etc.)\"."
   ]
  },
  {
   "cell_type": "code",
   "execution_count": 88,
   "id": "c274e9be-c2a7-4d73-8e49-d22c00fcf2c2",
   "metadata": {},
   "outputs": [
    {
     "name": "stdout",
     "output_type": "stream",
     "text": [
      "Aisha Khan, Miguel Rodriguez, Yuki Nakamura, Ananya Singh, Liam O'Connor, Chen Wei, Fatima El-Sayed, Carlos Silva, Sofia Rossi, Aleksandr Ivanov\n"
     ]
    }
   ],
   "source": [
    "## Answer exercise 5\n",
    "\n",
    "names = [\n",
    "    \"Aisha Khan\",\n",
    "    \"Miguel Rodriguez\",\n",
    "    \"Yuki Nakamura\",\n",
    "    \"Ananya Singh\",\n",
    "    \"Liam O'Connor\",\n",
    "    \"Chen Wei\",\n",
    "    \"Fatima El-Sayed\",\n",
    "    \"Carlos Silva\",\n",
    "    \"Sofia Rossi\",\n",
    "    \"Aleksandr Ivanov\"\n",
    "]\n",
    "\n",
    "name_string = \", \".join(names)\n",
    "print(name_string)"
   ]
  },
  {
   "cell_type": "markdown",
   "id": "2a146f60",
   "metadata": {},
   "source": [
    "### Exercice 6a\n",
    "\n",
    "The list `filepaths` is a list of filepaths within the repository of a documentation site.\n",
    "\n",
    "Make a new list called `filtered_filepaths` which contains only the filepaths which:\n",
    "\n",
    "- Are of filetype `mdx`\n",
    "- Are not named `index`, unless they are in the `tutorials` subfolder\n",
    "- Are not at the very top level of the directory (`../`)\n",
    "\n",
    "### Exercice 6b\n",
    "\n",
    "Amend the code to remove the two dots from the start of every filepath in the filtered list\n"
   ]
  },
  {
   "cell_type": "code",
   "execution_count": 89,
   "id": "92c4f3c9",
   "metadata": {},
   "outputs": [
    {
     "name": "stdout",
     "output_type": "stream",
     "text": [
      "['/tutorials/hadoop/index.mdx', '/tutorials/install-ispconfig/index.mdx', '/observability/cockpit/quickstart.mdx', '/observability/cockpit/concepts.mdx', '/observability/cockpit/api-cli/querying-logs-with-logcli.mdx', '/observability/cockpit/api-cli/configuring-grafana-agent.mdx', '/faq/dedibox.mdx', '/faq/iam.mdx', '/faq/databases-for-redis.mdx', '/faq/serverless-jobs.mdx', '/managed-databases/redis/quickstart.mdx', '/managed-databases/redis/concepts.mdx', '/managed-databases/postgresql-and-mysql/how-to/change-volume-type.mdx', '/dedibox-network/dns/concepts.mdx', '/dedibox-network/dns/how-to/configure-reverse-dns.mdx', '/dedibox-network/dns/how-to/configure-secondary-dns.mdx', '/dedibox-network/dns/how-to/add-dns-delegation.mdx', '/containers/container-registry/how-to/delete-namespace.mdx']\n"
     ]
    }
   ],
   "source": [
    "## Answer exercise 6\n",
    "\n",
    "filepaths = [\n",
    "    \"../contribute.mdx\",\n",
    "    \"../readme.mdx\",\n",
    "    \"../package.json\",\n",
    "    \"../index.mdx\",\n",
    "    \"../tutorials/hadoop/index.mdx\",\n",
    "    \"../tutorials/hadoop/assets/scaleway-apacheDL.webp\",\n",
    "    \"../tutorials/install-ispconfig/index.mdx\",\n",
    "    \"../tutorials/install-ispconfig/assets/scaleway-ispconfig_admin.webp\",\n",
    "    \"../observability/index.mdx\",\n",
    "    \"../observability/cockpit/quickstart.mdx\",\n",
    "    \"../observability/cockpit/concepts.mdx\",\n",
    "    \"../observability/cockpit/index.mdx\",\n",
    "    \"../observability/cockpit/api-cli/querying-logs-with-logcli.mdx\",\n",
    "    \"../observability/cockpit/api-cli/configuring-grafana-agent.mdx\",\n",
    "    \"../observability/cockpit/api-cli/index.mdx\",\n",
    "    \"../observability/cockpit/api-cli/assets/scaleway-data-source-url.webp\",\n",
    "    \"../faq/dedibox.mdx\",\n",
    "    \"../faq/iam.mdx\",\n",
    "    \"../faq/databases-for-redis.mdx\",\n",
    "    \"../faq/index.mdx\",\n",
    "    \"../faq/serverless-jobs.mdx\",\n",
    "    \"../faq/assets/scaleway-caas-billing-1.webp\",\n",
    "    \"../components/index.mdx\",\n",
    "    \"../managed-databases/index.mdx\",\n",
    "    \"../managed-databases/redis/quickstart.mdx\",\n",
    "    \"../managed-databases/redis/concepts.mdx\",\n",
    "    \"../managed-databases/postgresql-and-mysql/how-to/change-volume-type.mdx\",\n",
    "    \"../dedibox-network/index.mdx\",\n",
    "    \"../dedibox-network/dns/concepts.mdx\",\n",
    "    \"../dedibox-network/dns/index.mdx\",\n",
    "    \"../dedibox-network/dns/how-to/configure-reverse-dns.mdx\",\n",
    "    \"../dedibox-network/dns/how-to/configure-secondary-dns.mdx\",\n",
    "    \"../dedibox-network/dns/how-to/index.mdx\",\n",
    "    \"../dedibox-network/dns/how-to/add-dns-delegation.mdx\",\n",
    "    \"../dedibox-network/dns/how-to/assets/scaleway-mdx-example.webp\",\n",
    "    \"../dedibox-network/dns/how-to/assets/scaleway-dedibox-server-list.webpdx\",\n",
    "    \"../containers/container-registry/how-to/delete-namespace.mdx\",\n",
    "    \"../containers/container-registry/how-to/manage-namespace-privacy-policies.m\",\n",
    "    \"../containers/container-registry/how-to/index.mdx\",\n",
    "    \"../containers/container-registry/how-to/assets/scaleway-registry_image_privacy.pdf\",\n",
    "    \"../containers/container-registry/how-to/assets/scaleway-registry_image_privacy.webp\"\n",
    "]\n",
    "\n",
    "filtered_filepaths = []\n",
    "\n",
    "for filepath in filepaths:\n",
    "    if filepath.count(\"/\") >1:\n",
    "        if filepath.endswith(\".mdx\"):\n",
    "            if \"/tutorials/\" in filepath:\n",
    "                filtered_filepaths.append(filepath[2:])\n",
    "            elif \"/index.mdx\" not in filepath:\n",
    "                filtered_filepaths.append(filepath[2:])\n",
    "            \n",
    "            \n",
    "\n",
    "print(filtered_filepaths)\n",
    "        "
   ]
  },
  {
   "cell_type": "markdown",
   "id": "8f62c320",
   "metadata": {},
   "source": [
    "### Exercise 7\n",
    "\n",
    "The list `scraped` is a list of strings that has been scraped from a website's homepage. The aim is to carry out some data analysis on the content of the homepage.\n",
    "\n",
    "#### Part a)\n",
    "\n",
    "Process each string to clean it up:\n",
    "\n",
    "- Remove any leading or trailing whitespace\n",
    "- Remove all of the following html tags (`<div>`, `</div>`, `<p>`, `</p>`, `<h2>`, `</h2>`)\n",
    "- Remove any double spaces\n",
    "- Remove any newline markers (`\\n`) or tab markers (`\\t`)\n",
    "\n",
    "Put the cleaned strings in a new list variable called `cleaned`.\n",
    "\n",
    "#### Part b)\n",
    "\n",
    "Carry out some data analysis, and print the results however you see fit.\n",
    "\n",
    "- How many exclamation marks are on the homepage?\n",
    "- How many links are given on the homepage?\n",
    "- How many times is the company name (WonderProduct) mentioned?"
   ]
  },
  {
   "cell_type": "code",
   "execution_count": 90,
   "id": "a2dd2127",
   "metadata": {},
   "outputs": [
    {
     "name": "stdout",
     "output_type": "stream",
     "text": [
      "['Welcome to the website of WonderProduct! Here you will find a variety of resources to help you.', 'Contact us at info@wonderproduct.com for more information.', 'Latest News: WonderProduct has justlaunched a new product line.', 'Follow us on social media: https://www.facebook.com and https://www.twitter.com', \"Customer Reviews: 'WonderProduct changed my life!' - Jane Doe\", 'Subscribe to the WonderProduct newsletter for the latest updates.', 'About Us: We are a leading company in the tech industry, committed to innovation.', 'Our Services: We offer web development, mobile app development, and more.', 'FAQ: What is the return policy? - You can return products within 30 days.', 'Careers: Join the WonderProduct team! Check out the latest job openings.']\n"
     ]
    }
   ],
   "source": [
    "## Answer exercise 7a\n",
    "\n",
    "scraped = [\n",
    "    \"  <div>Welcome to the website of WonderProduct! Here   you will find a variety  of resources to help you.</div>  \",\n",
    "    \"\\n<p>Contact us at info@wonderproduct.com for more information.</p>\\n\\n\",\n",
    "    \"<h2>Latest News:</h2>    <p>WonderProduct has just\\nlaunched a new product line.</p>\\n\\n\",\n",
    "    \"  Follow us on social media: https://www.facebook.com and https://www.twitter.com  \\n\",\n",
    "    \"\\n<p>Customer Reviews: 'WonderProduct changed my life!' - Jane Doe</p>  \",\n",
    "    \"<p>Subscribe to the WonderProduct   newsletter for the latest updates.</p>\\n\\n\"  ,\n",
    "    \"<div>About Us:  We are a leading company in the tech industry, \\ncommitted to innovation.</div>\\n\\n\\n\",\n",
    "    \"\\t<p>Our Services: We offer web development, mobile app  development, and more.</p>\",\n",
    "    \"<p>FAQ: What is the return policy? - You can  return products within 30 days.</p>\\n\",\n",
    "    \"<div>Careers: Join the WonderProduct  team! Check out the latest job openings.</div>\\n\\n  \"\n",
    "]\n",
    "\n",
    "tags_to_remove = [\"<div>\", \"</div>\", \"<p>\", \"</p>\", \"<h2>\", \"</h2>\"]\n",
    "\n",
    "cleaned = []\n",
    "\n",
    "for string in scraped:\n",
    "    # Remove leading and trailing whitespace\n",
    "    cleaned_string = string.strip()\n",
    "    \n",
    "    # Remove html tags\n",
    "    for tag in tags_to_remove:\n",
    "        cleaned_string = cleaned_string.replace(tag, \"\")\n",
    "    \n",
    "    # Remove newline and tab markers\n",
    "    cleaned_string = cleaned_string.replace(\"\\n\", \"\").replace(\"\\t\", \"\")\n",
    "    \n",
    "    # Remove double spaces\n",
    "    while \"  \" in cleaned_string:\n",
    "        cleaned_string = cleaned_string.replace(\"  \", \" \")\n",
    "    \n",
    "    cleaned.append(cleaned_string)\n",
    "\n",
    "print(cleaned)"
   ]
  },
  {
   "cell_type": "code",
   "execution_count": 91,
   "id": "6106ce98",
   "metadata": {},
   "outputs": [
    {
     "name": "stdout",
     "output_type": "stream",
     "text": [
      "There are 3 exclamation marks, 2 links and 5 mentions of the product name on the homepage.\n"
     ]
    }
   ],
   "source": [
    "## Answer exercise 7b\n",
    "\n",
    "excl = 0\n",
    "links = 0\n",
    "name = 0\n",
    "\n",
    "for string in cleaned:\n",
    "    excl += string.count(\"!\")\n",
    "    links += string.count(\"https://\")\n",
    "    name += string.count(\"WonderProduct\")\n",
    "\n",
    "print(f\"There are {excl} exclamation marks, {links} links and {name} mentions of the product name on the homepage.\")"
   ]
  },
  {
   "cell_type": "markdown",
   "id": "d9711fbe",
   "metadata": {},
   "source": [
    "### Exercise 8\n",
    "\n",
    "Write a function that will be used when a user sets a new password. The function checks that the password meets the following criteria:\n",
    "\n",
    "- It has at least 8 characters\n",
    "- It contains at least one number\n",
    "- It contains at least one capital letter\n",
    "\n",
    "The function returns a boolean value.\n",
    "\n",
    "You can accomplish this without using regular expressions (though you can use regular expressions if you want). This may be helpful: https://www.w3resource.com/python-exercises/python-basic-exercise-86.php"
   ]
  },
  {
   "cell_type": "code",
   "execution_count": 92,
   "id": "2b153a83",
   "metadata": {},
   "outputs": [
    {
     "data": {
      "text/plain": [
       "True"
      ]
     },
     "execution_count": 92,
     "metadata": {},
     "output_type": "execute_result"
    }
   ],
   "source": [
    "## Answer exercise 8\n",
    "\n",
    "def check_password(password):\n",
    "    \n",
    "    length = False\n",
    "    number = False\n",
    "    cap = False\n",
    "    \n",
    "    # check length\n",
    "    if len(password) >=8:\n",
    "        length = True\n",
    "        \n",
    "    for char in password:\n",
    "        # check for number\n",
    "        if ord(char) >=48 and ord(char) <=57:\n",
    "            number = True\n",
    "        \n",
    "        # check for capital\n",
    "        if ord(char) >=56 and ord(char) <=90:\n",
    "            cap = True\n",
    "            \n",
    "    if length and number and cap:\n",
    "        return True\n",
    "    else:\n",
    "        return False\n",
    "\n",
    "check_password(\"0slkdjfsVlkdfj!\")"
   ]
  }
 ],
 "metadata": {
  "kernelspec": {
   "display_name": "Python 3 (ipykernel)",
   "language": "python",
   "name": "python3"
  },
  "language_info": {
   "codemirror_mode": {
    "name": "ipython",
    "version": 3
   },
   "file_extension": ".py",
   "mimetype": "text/x-python",
   "name": "python",
   "nbconvert_exporter": "python",
   "pygments_lexer": "ipython3",
   "version": "3.10.9"
  }
 },
 "nbformat": 4,
 "nbformat_minor": 5
}
